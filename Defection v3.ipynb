{
 "cells": [
  {
   "cell_type": "markdown",
   "metadata": {},
   "source": [
    "Sequential Game with game tree."
   ]
  },
  {
   "cell_type": "code",
   "execution_count": 1,
   "metadata": {
    "scrolled": false
   },
   "outputs": [],
   "source": [
    "#import sys\n",
    "#!{sys.executable} -m pip install pygraphviz"
   ]
  },
  {
   "cell_type": "code",
   "execution_count": 2,
   "metadata": {},
   "outputs": [],
   "source": [
    "from itertools import chain, combinations, product\n",
    "import networkx as nx\n",
    "from networkx.drawing.nx_pydot import graphviz_layout\n",
    "import matplotlib.pyplot as plt\n",
    "from collections import defaultdict"
   ]
  },
  {
   "cell_type": "markdown",
   "metadata": {},
   "source": [
    "# Player & Value function"
   ]
  },
  {
   "cell_type": "code",
   "execution_count": 3,
   "metadata": {},
   "outputs": [],
   "source": [
    "def v(s):\n",
    "    # valuation of a coalition\n",
    "    return 5 * int(len(s) >= 2)"
   ]
  },
  {
   "cell_type": "code",
   "execution_count": 4,
   "metadata": {},
   "outputs": [],
   "source": [
    "class Player:\n",
    "    def __init__(self, name, score):\n",
    "        self.name = name\n",
    "        self.score = score\n",
    "    def __repr__(self):\n",
    "        return self.name\n",
    "    def __lt__(self, other):\n",
    "        # <= operator\n",
    "        return self.score < other.score\n",
    "    def __le__(self, other):\n",
    "        # <= operator\n",
    "        return self.score <= other.score"
   ]
  },
  {
   "cell_type": "code",
   "execution_count": 5,
   "metadata": {},
   "outputs": [],
   "source": [
    "def get_ranking(d):\n",
    "    # d = {'A': abs_weight_A, 'B': abs_weight_B}\n",
    "    return sorted(d.keys(),\\\n",
    "                              key=lambda player: d[player])\n",
    "# https://stackoverflow.com/questions/4251732/fast-algorithm-to-calculate-delta-of-two-list\n",
    "def delta_ranking(ranking_init, ranking_term):\n",
    "    '''\n",
    "    >>> ranking_init = ['album1', 'album2', 'album3']\n",
    "    >>> ranking_term = ['album2', 'album1', 'album3']\n",
    "    >>> return {'album1': 1, 'album3': 0, 'album2': -1}\n",
    "    '''\n",
    "    D = {k:v for v,k in enumerate(ranking_init)}\n",
    "    return {k:v-D[k] for v,k in enumerate(ranking_term)}"
   ]
  },
  {
   "cell_type": "code",
   "execution_count": 6,
   "metadata": {},
   "outputs": [
    {
     "data": {
      "text/plain": [
       "{'album2': -1, 'album1': 1, 'album3': 0}"
      ]
     },
     "execution_count": 6,
     "metadata": {},
     "output_type": "execute_result"
    }
   ],
   "source": [
    "albums_today = ['album1', 'album2', 'album3']\n",
    "albums_yesterday = ['album2', 'album1', 'album3']\n",
    "delta_ranking(albums_today, albums_yesterday)"
   ]
  },
  {
   "cell_type": "markdown",
   "metadata": {},
   "source": [
    "# State Representation"
   ]
  },
  {
   "cell_type": "markdown",
   "metadata": {},
   "source": [
    "A set of players $N$.\n",
    "\n",
    "A set of weights $W_0$.\n",
    "\n",
    "A game state $G_t = (F, CS, t)$ where $CS$ is a partial coalition structure. $CS = \\{(C_i, Z_i)\\}_i$ where $C_i$ is a coalition and $Z_i$ indicates whether it's faithful or not!\n",
    "\n",
    "\n",
    "We call coalition structure without $Z_i$ indicator a \"semi\"-coalition structure."
   ]
  },
  {
   "cell_type": "markdown",
   "metadata": {},
   "source": [
    "__How to enumerate game state__:\n",
    "\n",
    "1. `powerset(N)` to get all possible F.\n",
    "2. $F = N \\setminus S$.\n",
    "3. `Partition` all possible semi-coalition structure from $F$\n",
    "4. For each CS of length $k$, use `product(range(2), k)` to generate all possible 0-1 length k sequence."
   ]
  },
  {
   "cell_type": "code",
   "execution_count": 7,
   "metadata": {},
   "outputs": [],
   "source": [
    "def powerset(iterable):\n",
    "    \"powerset([1,2,3]) --> () (1,) (2,) (3,) (1,2) (1,3) (2,3) (1,2,3)\"\n",
    "    s = list(iterable)\n",
    "    return chain.from_iterable(combinations(s, r) for r in range(len(s)+1))"
   ]
  },
  {
   "cell_type": "code",
   "execution_count": 8,
   "metadata": {},
   "outputs": [],
   "source": [
    "class PolicyState:\n",
    "    def __init__(self, parentState, coalition_considered, state_num):\n",
    "        self.parentState = parentState\n",
    "        self.coalition_considered = coalition_considered\n",
    "        self.state_num = state_num"
   ]
  },
  {
   "cell_type": "code",
   "execution_count": 9,
   "metadata": {},
   "outputs": [],
   "source": [
    "class State:\n",
    "    def __init__(self, F, CS, t):\n",
    "        self.F = set(F) # FREE is a set\n",
    "        self.CS = CS # coalition structure\n",
    "        self.t = t\n",
    "        self.name = 'G(' + 'F=' + str(self.F) + ',' + str(self.CS) + ',t=' + str(self.t) + ')'\n",
    "    \n",
    "    def __hash__(self):\n",
    "        return hash(self.name)\n",
    "    \n",
    "    def __eq__(self, other):\n",
    "        return self.name == self.name\n",
    "    \n",
    "    def __repr__(self):\n",
    "        return self.name\n",
    "    \n",
    "    def evaluate(self):\n",
    "        # this function should only be called for the very bottom horizon leaf \n",
    "        # nodes!\n",
    "        # for leaf node, return dict {'A': delta_ranking, 'B':...}\n",
    "        abs_weights_term = {}\n",
    "        abs_weights_init = {}\n",
    "        \n",
    "        # free\n",
    "        for agent in self.F:\n",
    "            abs_weights_term[agent.name] = agent.score\n",
    "            abs_weights_init[agent.name] = agent.score\n",
    "        \n",
    "        # coalition structure \n",
    "        for cs, z in zip(self.CS.CS, self.CS.Z):\n",
    "            for agent in cs:\n",
    "                abs_weights_term[agent.name] = agent.score + z*v(cs)\n",
    "                abs_weights_init[agent.name] = agent.score\n",
    "                \n",
    "        ranking_init = get_ranking(abs_weights_init) \n",
    "        ranking_term = get_ranking(abs_weights_term)\n",
    "        return delta_ranking(ranking_init, ranking_term)\n",
    "        \n",
    "        \n",
    "    def expand_states(self, game):\n",
    "        p = powerset(self.F)\n",
    "        for C in p: # C is a aftermath new coalition!\n",
    "            if not C:\n",
    "                # new coalition proposed but everyone leave! \n",
    "                new_state = State(self.F, self.CS, self.t+1)\n",
    "                #if new_state in game.nodes[self.t+1]:\n",
    "                #    new_state = game.nodes[self.t+1][new_state]\n",
    "                game.graph.add_edge(self, new_state)\n",
    "                game.add_state(new_state)\n",
    "                game.nodes[self.t+1].add(new_state)\n",
    "                continue\n",
    "            # else, C is no longer free!\n",
    "            F_new = self.F.difference(C)\n",
    "            # C can either be successful or lost\n",
    "            for z in [0, 1]:\n",
    "                if not F_new and not z:\n",
    "                    continue # to avoid the case empty set F but Z = 0 indicating failure still\n",
    "                CS_new = CoalitionStructure(self.CS.CS + [C], self.CS.Z + [z])\n",
    "                new_state = State(F_new, CS_new, self.t+1) \n",
    "                game.graph.add_edge(self, new_state)\n",
    "                #if new_state in game.nodes[self.t+1]:\n",
    "                #    new_state = game.nodes[self.t+1][new_state]\n",
    "                game.add_state(new_state)"
   ]
  },
  {
   "cell_type": "code",
   "execution_count": 10,
   "metadata": {},
   "outputs": [],
   "source": [
    "class CoalitionStructure:\n",
    "    def __init__(self, CS, Z):\n",
    "        self.CS = CS # e.g. [{1}, {2,3}]\n",
    "        self.Z = Z # e.g. (0, 1)\n",
    "        self.name = 'CS(' + str(self.CS) + ',Z=' + str(self.Z) + ')'\n",
    "    def __repr__(self):\n",
    "        return self.name\n",
    "    "
   ]
  },
  {
   "cell_type": "code",
   "execution_count": 11,
   "metadata": {},
   "outputs": [],
   "source": [
    "class Game:\n",
    "    def __init__(self, G0, graph, T):\n",
    "        self.G0 = G0 # initial game state!\n",
    "        self.graph = graph\n",
    "        self.T = T # termination time\n",
    "        self.nodes = defaultdict(set)\n",
    "        self.nodes[0] = set([self.G0]) # key = time, value = list of nodes\n",
    "        self.policyStates = []\n",
    "\n",
    "    def build_graph(self):\n",
    "        for t in range(self.T):\n",
    "            nodes = self.nodes[t]\n",
    "            for node in nodes:\n",
    "                node.expand_states(self)\n",
    "    def draw(self):\n",
    "        pass\n",
    "    \n",
    "    def add_state(self, new_state):\n",
    "        if new_state in self.nodes[new_state.t]:\n",
    "            return\n",
    "        self.nodes[new_state.t+1].add(new_state)"
   ]
  },
  {
   "cell_type": "markdown",
   "metadata": {},
   "source": [
    "## Generate all states"
   ]
  },
  {
   "cell_type": "code",
   "execution_count": 12,
   "metadata": {},
   "outputs": [],
   "source": [
    "# https://stackoverflow.com/questions/29762628/partition-of-a-set-or-all-possible-subgroups-of-a-list\n",
    "def partitions(set_):\n",
    "    if not set_:\n",
    "        yield []\n",
    "        return\n",
    "    for i in range(int(2**len(set_)/2)):\n",
    "        parts = [set(), set()]\n",
    "        for item in set_:\n",
    "            parts[i&1].add(item) # i & 1 ==> odd or even\n",
    "            i >>= 1 # divide by 2\n",
    "        for b in partitions(parts[1]):\n",
    "            yield [parts[0]]+b"
   ]
  },
  {
   "cell_type": "markdown",
   "metadata": {},
   "source": [
    "Generate some states for $N=\\{A,B,C\\}$ and $T=1$."
   ]
  },
  {
   "cell_type": "code",
   "execution_count": 13,
   "metadata": {},
   "outputs": [],
   "source": [
    "N = set([1,2,3])\n",
    "p = powerset(N) # F and S"
   ]
  },
  {
   "cell_type": "code",
   "execution_count": 14,
   "metadata": {},
   "outputs": [],
   "source": [
    "semi_states = [] # states without time\n",
    "T = 1\n",
    "for F in p:\n",
    "    S = N.difference(F)\n",
    "    for semi_CS in partitions(S):\n",
    "        for Z in product(range(2), repeat=len(semi_CS)):\n",
    "            CS = CoalitionStructure(semi_CS, Z)\n",
    "            semi_states.append((F, CS))"
   ]
  },
  {
   "cell_type": "code",
   "execution_count": 15,
   "metadata": {
    "scrolled": false
   },
   "outputs": [
    {
     "data": {
      "text/plain": [
       "[G(F=set(),CS([{1, 2, 3}],Z=(0,)),t=0),\n",
       " G(F=set(),CS([{1, 2, 3}],Z=(0,)),t=1),\n",
       " G(F=set(),CS([{1, 2, 3}],Z=(1,)),t=0),\n",
       " G(F=set(),CS([{1, 2, 3}],Z=(1,)),t=1),\n",
       " G(F=set(),CS([{2, 3}, {1}],Z=(0, 0)),t=0),\n",
       " G(F=set(),CS([{2, 3}, {1}],Z=(0, 0)),t=1),\n",
       " G(F=set(),CS([{2, 3}, {1}],Z=(0, 1)),t=0),\n",
       " G(F=set(),CS([{2, 3}, {1}],Z=(0, 1)),t=1),\n",
       " G(F=set(),CS([{2, 3}, {1}],Z=(1, 0)),t=0),\n",
       " G(F=set(),CS([{2, 3}, {1}],Z=(1, 0)),t=1),\n",
       " G(F=set(),CS([{2, 3}, {1}],Z=(1, 1)),t=0),\n",
       " G(F=set(),CS([{2, 3}, {1}],Z=(1, 1)),t=1),\n",
       " G(F=set(),CS([{1, 3}, {2}],Z=(0, 0)),t=0),\n",
       " G(F=set(),CS([{1, 3}, {2}],Z=(0, 0)),t=1),\n",
       " G(F=set(),CS([{1, 3}, {2}],Z=(0, 1)),t=0),\n",
       " G(F=set(),CS([{1, 3}, {2}],Z=(0, 1)),t=1),\n",
       " G(F=set(),CS([{1, 3}, {2}],Z=(1, 0)),t=0),\n",
       " G(F=set(),CS([{1, 3}, {2}],Z=(1, 0)),t=1),\n",
       " G(F=set(),CS([{1, 3}, {2}],Z=(1, 1)),t=0),\n",
       " G(F=set(),CS([{1, 3}, {2}],Z=(1, 1)),t=1),\n",
       " G(F=set(),CS([{3}, {1, 2}],Z=(0, 0)),t=0),\n",
       " G(F=set(),CS([{3}, {1, 2}],Z=(0, 0)),t=1),\n",
       " G(F=set(),CS([{3}, {1, 2}],Z=(0, 1)),t=0),\n",
       " G(F=set(),CS([{3}, {1, 2}],Z=(0, 1)),t=1),\n",
       " G(F=set(),CS([{3}, {1, 2}],Z=(1, 0)),t=0),\n",
       " G(F=set(),CS([{3}, {1, 2}],Z=(1, 0)),t=1),\n",
       " G(F=set(),CS([{3}, {1, 2}],Z=(1, 1)),t=0),\n",
       " G(F=set(),CS([{3}, {1, 2}],Z=(1, 1)),t=1),\n",
       " G(F=set(),CS([{3}, {2}, {1}],Z=(0, 0, 0)),t=0),\n",
       " G(F=set(),CS([{3}, {2}, {1}],Z=(0, 0, 0)),t=1),\n",
       " G(F=set(),CS([{3}, {2}, {1}],Z=(0, 0, 1)),t=0),\n",
       " G(F=set(),CS([{3}, {2}, {1}],Z=(0, 0, 1)),t=1),\n",
       " G(F=set(),CS([{3}, {2}, {1}],Z=(0, 1, 0)),t=0),\n",
       " G(F=set(),CS([{3}, {2}, {1}],Z=(0, 1, 0)),t=1),\n",
       " G(F=set(),CS([{3}, {2}, {1}],Z=(0, 1, 1)),t=0),\n",
       " G(F=set(),CS([{3}, {2}, {1}],Z=(0, 1, 1)),t=1),\n",
       " G(F=set(),CS([{3}, {2}, {1}],Z=(1, 0, 0)),t=0),\n",
       " G(F=set(),CS([{3}, {2}, {1}],Z=(1, 0, 0)),t=1),\n",
       " G(F=set(),CS([{3}, {2}, {1}],Z=(1, 0, 1)),t=0),\n",
       " G(F=set(),CS([{3}, {2}, {1}],Z=(1, 0, 1)),t=1),\n",
       " G(F=set(),CS([{3}, {2}, {1}],Z=(1, 1, 0)),t=0),\n",
       " G(F=set(),CS([{3}, {2}, {1}],Z=(1, 1, 0)),t=1),\n",
       " G(F=set(),CS([{3}, {2}, {1}],Z=(1, 1, 1)),t=0),\n",
       " G(F=set(),CS([{3}, {2}, {1}],Z=(1, 1, 1)),t=1),\n",
       " G(F={1},CS([{2, 3}],Z=(0,)),t=0),\n",
       " G(F={1},CS([{2, 3}],Z=(0,)),t=1),\n",
       " G(F={1},CS([{2, 3}],Z=(1,)),t=0),\n",
       " G(F={1},CS([{2, 3}],Z=(1,)),t=1),\n",
       " G(F={1},CS([{3}, {2}],Z=(0, 0)),t=0),\n",
       " G(F={1},CS([{3}, {2}],Z=(0, 0)),t=1),\n",
       " G(F={1},CS([{3}, {2}],Z=(0, 1)),t=0),\n",
       " G(F={1},CS([{3}, {2}],Z=(0, 1)),t=1),\n",
       " G(F={1},CS([{3}, {2}],Z=(1, 0)),t=0),\n",
       " G(F={1},CS([{3}, {2}],Z=(1, 0)),t=1),\n",
       " G(F={1},CS([{3}, {2}],Z=(1, 1)),t=0),\n",
       " G(F={1},CS([{3}, {2}],Z=(1, 1)),t=1),\n",
       " G(F={2},CS([{1, 3}],Z=(0,)),t=0),\n",
       " G(F={2},CS([{1, 3}],Z=(0,)),t=1),\n",
       " G(F={2},CS([{1, 3}],Z=(1,)),t=0),\n",
       " G(F={2},CS([{1, 3}],Z=(1,)),t=1),\n",
       " G(F={2},CS([{3}, {1}],Z=(0, 0)),t=0),\n",
       " G(F={2},CS([{3}, {1}],Z=(0, 0)),t=1),\n",
       " G(F={2},CS([{3}, {1}],Z=(0, 1)),t=0),\n",
       " G(F={2},CS([{3}, {1}],Z=(0, 1)),t=1),\n",
       " G(F={2},CS([{3}, {1}],Z=(1, 0)),t=0),\n",
       " G(F={2},CS([{3}, {1}],Z=(1, 0)),t=1),\n",
       " G(F={2},CS([{3}, {1}],Z=(1, 1)),t=0),\n",
       " G(F={2},CS([{3}, {1}],Z=(1, 1)),t=1),\n",
       " G(F={3},CS([{1, 2}],Z=(0,)),t=0),\n",
       " G(F={3},CS([{1, 2}],Z=(0,)),t=1),\n",
       " G(F={3},CS([{1, 2}],Z=(1,)),t=0),\n",
       " G(F={3},CS([{1, 2}],Z=(1,)),t=1),\n",
       " G(F={3},CS([{2}, {1}],Z=(0, 0)),t=0),\n",
       " G(F={3},CS([{2}, {1}],Z=(0, 0)),t=1),\n",
       " G(F={3},CS([{2}, {1}],Z=(0, 1)),t=0),\n",
       " G(F={3},CS([{2}, {1}],Z=(0, 1)),t=1),\n",
       " G(F={3},CS([{2}, {1}],Z=(1, 0)),t=0),\n",
       " G(F={3},CS([{2}, {1}],Z=(1, 0)),t=1),\n",
       " G(F={3},CS([{2}, {1}],Z=(1, 1)),t=0),\n",
       " G(F={3},CS([{2}, {1}],Z=(1, 1)),t=1),\n",
       " G(F={1, 2},CS([{3}],Z=(0,)),t=0),\n",
       " G(F={1, 2},CS([{3}],Z=(0,)),t=1),\n",
       " G(F={1, 2},CS([{3}],Z=(1,)),t=0),\n",
       " G(F={1, 2},CS([{3}],Z=(1,)),t=1),\n",
       " G(F={1, 3},CS([{2}],Z=(0,)),t=0),\n",
       " G(F={1, 3},CS([{2}],Z=(0,)),t=1),\n",
       " G(F={1, 3},CS([{2}],Z=(1,)),t=0),\n",
       " G(F={1, 3},CS([{2}],Z=(1,)),t=1),\n",
       " G(F={2, 3},CS([{1}],Z=(0,)),t=0),\n",
       " G(F={2, 3},CS([{1}],Z=(0,)),t=1),\n",
       " G(F={2, 3},CS([{1}],Z=(1,)),t=0),\n",
       " G(F={2, 3},CS([{1}],Z=(1,)),t=1),\n",
       " G(F={1, 2, 3},CS([],Z=()),t=0),\n",
       " G(F={1, 2, 3},CS([],Z=()),t=1)]"
      ]
     },
     "execution_count": 15,
     "metadata": {},
     "output_type": "execute_result"
    }
   ],
   "source": [
    "combs = [\n",
    "    semi_states,\n",
    "    range(T+1)\n",
    "]\n",
    "\n",
    "states = [State(*semi_state, t) for semi_state, t in product(*combs)]\n",
    "states"
   ]
  },
  {
   "cell_type": "markdown",
   "metadata": {},
   "source": [
    "## DP State expansion"
   ]
  },
  {
   "cell_type": "code",
   "execution_count": 16,
   "metadata": {},
   "outputs": [],
   "source": [
    "A = Player('A', 3)\n",
    "B = Player('B', 2)\n",
    "C = Player('C', 1)\n",
    "N = set([A, B, C])"
   ]
  },
  {
   "cell_type": "code",
   "execution_count": 17,
   "metadata": {},
   "outputs": [
    {
     "name": "stdout",
     "output_type": "stream",
     "text": [
      "G0: G(F={C, A, B},CS([],Z=[]),t=0)\n"
     ]
    }
   ],
   "source": [
    "CS0 = CoalitionStructure(CS=[], Z=[])\n",
    "G0 = State(N, CS0, t=0)\n",
    "print('G0:', G0)\n",
    "graph = nx.DiGraph()\n",
    "T = 2\n",
    "game = Game(G0, graph, T)"
   ]
  },
  {
   "cell_type": "code",
   "execution_count": 18,
   "metadata": {},
   "outputs": [],
   "source": [
    "game.build_graph()"
   ]
  },
  {
   "cell_type": "code",
   "execution_count": 19,
   "metadata": {},
   "outputs": [
    {
     "data": {
      "image/png": "[encoded data removed]",
      "text/plain": [
       "<Figure size 720x360 with 1 Axes>"
      ]
     },
     "metadata": {},
     "output_type": "display_data"
    }
   ],
   "source": [
    "plt.rcParams['figure.figsize'] = 10, 5\n",
    "pos =graphviz_layout(game.graph, prog='dot')\n",
    "nx.draw(game.graph, pos,alpha=0.2, arrows=False, with_labels=False, node_size=20);"
   ]
  },
  {
   "cell_type": "code",
   "execution_count": 20,
   "metadata": {},
   "outputs": [
    {
     "data": {
      "text/plain": [
       "defaultdict(set,\n",
       "            {0: {G(F={C, A, B},CS([],Z=[]),t=0)},\n",
       "             1: {G(F={C, A, B},CS([],Z=[]),t=1)},\n",
       "             2: {G(F=set(),CS([(C, A, B)],Z=[1]),t=1),\n",
       "              G(F={A, B},CS([(C,)],Z=[0]),t=1),\n",
       "              G(F={A, B},CS([(C,)],Z=[1]),t=1),\n",
       "              G(F={A},CS([(C, B)],Z=[0]),t=1),\n",
       "              G(F={A},CS([(C, B)],Z=[1]),t=1),\n",
       "              G(F={B},CS([(C, A)],Z=[0]),t=1),\n",
       "              G(F={B},CS([(C, A)],Z=[1]),t=1),\n",
       "              G(F={C, A, B},CS([],Z=[]),t=1),\n",
       "              G(F={C, A, B},CS([],Z=[]),t=2),\n",
       "              G(F={C, A},CS([(B,)],Z=[0]),t=1),\n",
       "              G(F={C, A},CS([(B,)],Z=[1]),t=1),\n",
       "              G(F={C, B},CS([(A,)],Z=[0]),t=1),\n",
       "              G(F={C, B},CS([(A,)],Z=[1]),t=1),\n",
       "              G(F={C},CS([(A, B)],Z=[0]),t=1),\n",
       "              G(F={C},CS([(A, B)],Z=[1]),t=1)},\n",
       "             3: {G(F=set(),CS([(C, A, B)],Z=[1]),t=2),\n",
       "              G(F={A, B},CS([(C,)],Z=[0]),t=2),\n",
       "              G(F={A, B},CS([(C,)],Z=[1]),t=2),\n",
       "              G(F={A},CS([(C, B)],Z=[0]),t=2),\n",
       "              G(F={A},CS([(C, B)],Z=[1]),t=2),\n",
       "              G(F={B},CS([(C, A)],Z=[0]),t=2),\n",
       "              G(F={B},CS([(C, A)],Z=[1]),t=2),\n",
       "              G(F={C, A, B},CS([],Z=[]),t=2),\n",
       "              G(F={C, A},CS([(B,)],Z=[0]),t=2),\n",
       "              G(F={C, A},CS([(B,)],Z=[1]),t=2),\n",
       "              G(F={C, B},CS([(A,)],Z=[0]),t=2),\n",
       "              G(F={C, B},CS([(A,)],Z=[1]),t=2),\n",
       "              G(F={C},CS([(A, B)],Z=[0]),t=2),\n",
       "              G(F={C},CS([(A, B)],Z=[1]),t=2)}})"
      ]
     },
     "execution_count": 20,
     "metadata": {},
     "output_type": "execute_result"
    }
   ],
   "source": [
    "game.nodes"
   ]
  },
  {
   "cell_type": "code",
   "execution_count": 21,
   "metadata": {},
   "outputs": [
    {
     "ename": "IndexError",
     "evalue": "list index out of range",
     "output_type": "error",
     "traceback": [
      "\u001b[0;31m---------------------------------------------------------------------------\u001b[0m",
      "\u001b[0;31mIndexError\u001b[0m                                Traceback (most recent call last)",
      "\u001b[0;32m<ipython-input-21-cba1b814ace8>\u001b[0m in \u001b[0;36m<module>\u001b[0;34m\u001b[0m\n\u001b[1;32m      3\u001b[0m \u001b[0;31m# the bottom player group with the top player.\u001b[0m\u001b[0;34m\u001b[0m\u001b[0;34m\u001b[0m\u001b[0;34m\u001b[0m\u001b[0m\n\u001b[1;32m      4\u001b[0m \u001b[0;31m# middle player drops 1 in ranking! and bottom gains 1!\u001b[0m\u001b[0;34m\u001b[0m\u001b[0;34m\u001b[0m\u001b[0;34m\u001b[0m\u001b[0m\n\u001b[0;32m----> 5\u001b[0;31m \u001b[0mprint\u001b[0m\u001b[0;34m(\u001b[0m\u001b[0mleafs\u001b[0m\u001b[0;34m[\u001b[0m\u001b[0mi\u001b[0m\u001b[0;34m]\u001b[0m\u001b[0;34m)\u001b[0m\u001b[0;34m\u001b[0m\u001b[0;34m\u001b[0m\u001b[0m\n\u001b[0m\u001b[1;32m      6\u001b[0m \u001b[0mleafs\u001b[0m\u001b[0;34m[\u001b[0m\u001b[0mi\u001b[0m\u001b[0;34m]\u001b[0m\u001b[0;34m.\u001b[0m\u001b[0mevaluate\u001b[0m\u001b[0;34m(\u001b[0m\u001b[0;34m)\u001b[0m\u001b[0;34m\u001b[0m\u001b[0;34m\u001b[0m\u001b[0m\n",
      "\u001b[0;31mIndexError\u001b[0m: list index out of range"
     ]
    }
   ],
   "source": [
    "leafs = list(game.nodes[T])\n",
    "i = 22\n",
    "# the bottom player group with the top player.\n",
    "# middle player drops 1 in ranking! and bottom gains 1!\n",
    "print(leafs[i])\n",
    "leafs[i].evaluate()"
   ]
  },
  {
   "cell_type": "markdown",
   "metadata": {},
   "source": [
    "# Agent Policy Optimization"
   ]
  },
  {
   "cell_type": "code",
   "execution_count": null,
   "metadata": {},
   "outputs": [],
   "source": []
  }
 ],
 "metadata": {
  "hide_input": false,
  "kernelspec": {
   "display_name": "Python 3",
   "language": "python",
   "name": "python3"
  },
  "language_info": {
   "codemirror_mode": {
    "name": "ipython",
    "version": 3
   },
   "file_extension": ".py",
   "mimetype": "text/x-python",
   "name": "python",
   "nbconvert_exporter": "python",
   "pygments_lexer": "ipython3",
   "version": "3.8.6"
  },
  "latex_envs": {
   "LaTeX_envs_menu_present": false,
   "autoclose": false,
   "autocomplete": false,
   "bibliofile": "biblio.bib",
   "cite_by": "apalike",
   "current_citInitial": 1,
   "eqLabelWithNumbers": false,
   "eqNumInitial": 1,
   "hotkeys": {
    "equation": "Ctrl-E",
    "itemize": "Ctrl-I"
   },
   "labels_anchors": false,
   "latex_user_defs": false,
   "report_style_numbering": false,
   "user_envs_cfg": false
  },
  "toc": {
   "base_numbering": 1,
   "nav_menu": {},
   "number_sections": true,
   "sideBar": true,
   "skip_h1_title": false,
   "title_cell": "Table of Contents",
   "title_sidebar": "Contents",
   "toc_cell": false,
   "toc_position": {},
   "toc_section_display": true,
   "toc_window_display": false
  }
 },
 "nbformat": 4,
 "nbformat_minor": 2
}
