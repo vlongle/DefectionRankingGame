{
 "cells": [
  {
   "cell_type": "markdown",
   "metadata": {},
   "source": [
    "Defection Game is a sequential game with __game states.__\n",
    "\n",
    "Players play Nash strategic games during __policy states__."
   ]
  },
  {
   "cell_type": "markdown",
   "metadata": {},
   "source": [
    "# Library"
   ]
  },
  {
   "cell_type": "code",
   "execution_count": 1,
   "metadata": {
    "scrolled": false
   },
   "outputs": [],
   "source": [
    "#import sys\n",
    "#!{sys.executable} -m pip install pydot\n",
    "#!{sys.executable}"
   ]
  },
  {
   "cell_type": "code",
   "execution_count": 2,
   "metadata": {},
   "outputs": [],
   "source": [
    "from itertools import chain, combinations, product\n",
    "import networkx as nx\n",
    "from networkx.drawing.nx_pydot import graphviz_layout\n",
    "import matplotlib.pyplot as plt\n",
    "from collections import defaultdict\n",
    "import numpy as np\n",
    "#import nashpy as nash\n",
    "import gambit"
   ]
  },
  {
   "cell_type": "code",
   "execution_count": 3,
   "metadata": {},
   "outputs": [],
   "source": [
    "np.random.seed(0)"
   ]
  },
  {
   "cell_type": "markdown",
   "metadata": {},
   "source": [
    "# Player & Value function"
   ]
  },
  {
   "cell_type": "code",
   "execution_count": 4,
   "metadata": {},
   "outputs": [],
   "source": [
    "# NOT NEEDED!\n",
    "def softmax(raw_policy):\n",
    "    # policy is a 2d matrix\n",
    "    # [state][action_probability]\n",
    "    # e.g. num_states = 3\n",
    "    # [[0.5, 0.5],\n",
    "    # [0.7, 0.3],\n",
    "    # [0.3, 0.8]]\n",
    "    # we apply softmax transform along every row to make it a prob. distribution over\n",
    "    # actions per state\n",
    "    transformed = np.exp(raw_policy)\n",
    "    normalizing_const = np.sum(transformed, axis=-1, keepdims=True)\n",
    "    return transformed/normalizing_const"
   ]
  },
  {
   "cell_type": "code",
   "execution_count": 5,
   "metadata": {},
   "outputs": [],
   "source": [
    "def v(s):\n",
    "    # valuation of a coalition\n",
    "    return 5 * int(len(s) >= 2)"
   ]
  },
  {
   "cell_type": "code",
   "execution_count": 6,
   "metadata": {},
   "outputs": [],
   "source": [
    "class Player:\n",
    "    def __init__(self, name, score):\n",
    "        self.name = name\n",
    "        self.score = score\n",
    "    \n",
    "    def init_policy(self, policy):\n",
    "        self.policy = policy # policy is a 2d matrix\n",
    "        # [state][action_probability]\n",
    "        # e.g. num_states = 3\n",
    "        # [[0.5, 0.5],\n",
    "        # [0.7, 0.3],\n",
    "        # [0.3, 0.8]]\n",
    "        \n",
    "    def __repr__(self):\n",
    "        return self.name\n",
    "    def __lt__(self, other):\n",
    "        # <= operator\n",
    "        return self.score < other.score\n",
    "    def __le__(self, other):\n",
    "        # <= operator\n",
    "        return self.score <= other.score"
   ]
  },
  {
   "cell_type": "code",
   "execution_count": 7,
   "metadata": {},
   "outputs": [],
   "source": [
    "def get_ranking(d):\n",
    "    # d = {'A': abs_weight_A, 'B': abs_weight_B}\n",
    "    return sorted(d.keys(),\\\n",
    "                              key=lambda player: d[player])\n",
    "# https://stackoverflow.com/questions/4251732/fast-algorithm-to-calculate-delta-of-two-list\n",
    "def delta_ranking(ranking_init, ranking_term):\n",
    "    '''\n",
    "    TODO: BUG!!!!\n",
    "    Need to fix tie breaking here!!\n",
    "    >>> ranking_init = ['album1', 'album2', 'album3']\n",
    "    >>> ranking_term = ['album2', 'album1', 'album3']\n",
    "    >>> return {'album1': 1, 'album3': 0, 'album2': -1}\n",
    "    '''\n",
    "    print('ranking_term:', ranking_term)\n",
    "    D = {k:v for v,k in enumerate(ranking_init)}\n",
    "    return {k:v-D[k] for v,k in enumerate(ranking_term)}"
   ]
  },
  {
   "cell_type": "code",
   "execution_count": 8,
   "metadata": {},
   "outputs": [],
   "source": [
    "def get_ranking_v2(d):\n",
    "    # https://stackoverflow.com/questions/2299696/positional-rankings-and-dealing-with-ties-in-python\n",
    "    sorted_scores = sorted(d.items(),\\\n",
    "            key=lambda player: d[player[0]])\n",
    "    res = {}\n",
    "    prev = None\n",
    "    #for i,(k,v) in enumerate(d.items()):\n",
    "    for i,(k,v) in enumerate(sorted_scores):\n",
    "        if v!=prev:\n",
    "            place,prev = i+1,v\n",
    "        res[k] = place\n",
    "    print('res:', res)\n",
    "    return res\n",
    "\n",
    "def delta_ranking_v2(ranking_init, ranking_term):\n",
    "    '''\n",
    "    ranking_init = {'A': 1, 'B': 1, 'C': 3, 'D': 4}\n",
    "    '''\n",
    "    res = {}\n",
    "    for player, rank_init in ranking_init.items():\n",
    "        res[player] = ranking_term[player] - rank_init\n",
    "    return res"
   ]
  },
  {
   "cell_type": "code",
   "execution_count": 9,
   "metadata": {},
   "outputs": [
    {
     "name": "stdout",
     "output_type": "stream",
     "text": [
      "ranking_term: ['album2', 'album1', 'album3']\n"
     ]
    },
    {
     "data": {
      "text/plain": [
       "{'album2': -1, 'album1': 1, 'album3': 0}"
      ]
     },
     "execution_count": 9,
     "metadata": {},
     "output_type": "execute_result"
    }
   ],
   "source": [
    "albums_today = ['album1', 'album2', 'album3']\n",
    "albums_yesterday = ['album2', 'album1', 'album3']\n",
    "delta_ranking(albums_today, albums_yesterday)"
   ]
  },
  {
   "cell_type": "code",
   "execution_count": 10,
   "metadata": {},
   "outputs": [
    {
     "name": "stdout",
     "output_type": "stream",
     "text": [
      "res: {'A': 1, 'B': 1, 'C': 3, 'D': 4}\n"
     ]
    },
    {
     "data": {
      "text/plain": [
       "{'A': 1, 'B': 1, 'C': 3, 'D': 4}"
      ]
     },
     "execution_count": 10,
     "metadata": {},
     "output_type": "execute_result"
    }
   ],
   "source": [
    "#d = {'A': 2, 'B':2, 'C':10}\n",
    "#d = {'D': 20, 'A': 2, 'B':2, 'C':10}\n",
    "d = {'A': 2, 'B':2, 'C':10, 'D':20}\n",
    "#get_ranking(d)\n",
    "get_ranking_v2(d)"
   ]
  },
  {
   "cell_type": "markdown",
   "metadata": {},
   "source": [
    "# State Representation"
   ]
  },
  {
   "cell_type": "markdown",
   "metadata": {},
   "source": [
    "A set of players $N$.\n",
    "\n",
    "A set of weights $W_0$.\n",
    "\n",
    "A game state $G_t = (F, CS, t)$ where $CS$ is a partial coalition structure. $\\textrm{CS} = \\{(C_i, Z_i)\\}_i$ where $C_i$ is a coalition and $Z_i$ indicates whether it's faithful or not!\n",
    "\n",
    "\n",
    "We call coalition structure without $Z_i$ indicator a \"semi\"-coalition structure."
   ]
  },
  {
   "cell_type": "markdown",
   "metadata": {},
   "source": [
    "__How to enumerate game state__:\n",
    "\n",
    "1. `powerset(N)` to get all possible F.\n",
    "2. $F = N \\setminus S$.\n",
    "3. `Partition` all possible semi-coalition structure from $F$\n",
    "4. For each CS of length $k$, use `product(range(2), k)` to generate all possible 0-1 length k sequence."
   ]
  },
  {
   "cell_type": "code",
   "execution_count": 11,
   "metadata": {},
   "outputs": [],
   "source": [
    "def powerset(iterable):\n",
    "    \"powerset([1,2,3]) --> () (1,) (2,) (3,) (1,2) (1,3) (2,3) (1,2,3)\"\n",
    "    s = list(iterable)\n",
    "    return chain.from_iterable(combinations(s, r) for r in range(len(s)+1))"
   ]
  },
  {
   "cell_type": "code",
   "execution_count": 12,
   "metadata": {},
   "outputs": [],
   "source": [
    "class PolicyState:\n",
    "    def __init__(self, parentState, coalition_considered, state_num):\n",
    "        self.parentState = parentState\n",
    "        self.coalition_considered = coalition_considered\n",
    "        self.state_num = state_num\n",
    "        self.name = 'PS(' + str(parentState) + ', || CS=' + str(coalition_considered) + ')'\n",
    "    def __repr__(self):\n",
    "        return self.name "
   ]
  },
  {
   "cell_type": "code",
   "execution_count": 13,
   "metadata": {},
   "outputs": [],
   "source": [
    "class State:\n",
    "    def __init__(self, F, CS, t):\n",
    "        self.F = set(F) # FREE is a set\n",
    "        self.CS = CS # coalition structure\n",
    "        self.t = t\n",
    "        self.name = 'G(' + 'F=' + str(self.F) + ',' + str(self.CS) + ',t=' + str(self.t) + ')'\n",
    "        self.value = None\n",
    "    \n",
    "    def __hash__(self):\n",
    "        return hash(self.name)\n",
    "    \n",
    "    def __eq__(self, other):\n",
    "        return self.name == self.name\n",
    "    \n",
    "    def __repr__(self):\n",
    "        return self.name\n",
    "    \n",
    "    def evaluate(self):\n",
    "        # this function should only be called for the very bottom horizon leaf \n",
    "        # nodes!\n",
    "        # for leaf node, return dict {'A': delta_ranking, 'B':...}\n",
    "        abs_weights_term = {}\n",
    "        abs_weights_init = {}\n",
    "        \n",
    "        # free\n",
    "        for agent in self.F:\n",
    "            abs_weights_term[agent.name] = agent.score\n",
    "            abs_weights_init[agent.name] = agent.score\n",
    "        \n",
    "        # coalition structure \n",
    "        for cs, z in zip(self.CS.CS, self.CS.Z):\n",
    "            for agent in cs:\n",
    "                abs_weights_term[agent.name] = agent.score + z*v(cs)\n",
    "                abs_weights_init[agent.name] = agent.score\n",
    "                \n",
    "        ranking_init = get_ranking_v2(abs_weights_init) \n",
    "        ranking_term = get_ranking_v2(abs_weights_term)\n",
    "        #return delta_ranking(ranking_init, ranking_term)\n",
    "        self.value = delta_ranking_v2(ranking_init, ranking_term)\n",
    "        return self.value\n",
    "        \n",
    "        \n",
    "    def expand_states(self, game):\n",
    "        p = powerset(self.F)\n",
    "        for C in p: # C is a aftermath new coalition!\n",
    "            if not C:\n",
    "                # new coalition proposed but everyone leave! \n",
    "                new_state = State(self.F, self.CS, self.t+1)\n",
    "                #if new_state in game.nodes[self.t+1]:\n",
    "                #    new_state = game.nodes[self.t+1][new_state]\n",
    "                game.graph.add_edge(self, new_state)\n",
    "                game.add_state(new_state)\n",
    "                game.nodes[self.t+1].add(new_state)\n",
    "                continue\n",
    "            # else, C is no longer free!\n",
    "            F_new = self.F.difference(C)\n",
    "            # C can either be successful or lost\n",
    "            for z in [0, 1]:\n",
    "                if not F_new and not z:\n",
    "                    continue # to avoid the case empty set F but Z = 0 indicating failure still\n",
    "                CS_new = CoalitionStructure(self.CS.CS + [set(C)], self.CS.Z + [z])\n",
    "                new_state = State(F_new, CS_new, self.t+1) \n",
    "                game.graph.add_edge(self, new_state)\n",
    "                #if new_state in game.nodes[self.t+1]:\n",
    "                #    new_state = game.nodes[self.t+1][new_state]\n",
    "                game.add_state(new_state)"
   ]
  },
  {
   "cell_type": "code",
   "execution_count": 14,
   "metadata": {},
   "outputs": [],
   "source": [
    "class CoalitionStructure:\n",
    "    def __init__(self, CS, Z):\n",
    "        self.CS = CS # e.g. [{1}, {2,3}]\n",
    "        self.Z = Z # e.g. (0, 1)\n",
    "        self.name = 'CS(' + str(self.CS) + ',Z=' + str(self.Z) + ')'\n",
    "    def __repr__(self):\n",
    "        return self.name\n",
    "    "
   ]
  },
  {
   "cell_type": "code",
   "execution_count": 15,
   "metadata": {},
   "outputs": [],
   "source": [
    "class Game:\n",
    "    def __init__(self, G0, graph, T):\n",
    "        self.G0 = G0 # initial game state!\n",
    "        self.graph = graph\n",
    "        self.T = T # termination time\n",
    "        self.nodes = defaultdict(set)\n",
    "        self.nodes[0] = set([self.G0]) # key = time, value = list of nodes\n",
    "        self.policyStates = []\n",
    "        self.create_policy_states(self.G0)\n",
    "        self.valuations = defaultdict(dict) # key = (leaf) state, value = delta ranking\n",
    "\n",
    "    def build_graph(self):\n",
    "        for t in range(self.T):\n",
    "            nodes = self.nodes[t]\n",
    "            for node in nodes:\n",
    "                node.expand_states(self)\n",
    "    def draw(self):\n",
    "        pass\n",
    "    \n",
    "    def add_state(self, new_state):\n",
    "        if new_state in self.nodes[new_state.t]:\n",
    "            return\n",
    "        \n",
    "        self.nodes[new_state.t].add(new_state)\n",
    "        if new_state.t < self.T:\n",
    "            self.create_policy_states(new_state)\n",
    "    \n",
    "    def create_policy_states(self, state):\n",
    "        p = powerset(state.F)\n",
    "        for C in p: # C is a proposed new coalition!\n",
    "            if not C:\n",
    "                continue\n",
    "            policy_state = PolicyState(state, C, len(self.policyStates))\n",
    "            self.policyStates.append(policy_state)\n"
   ]
  },
  {
   "cell_type": "markdown",
   "metadata": {},
   "source": [
    "## Generate all states"
   ]
  },
  {
   "cell_type": "code",
   "execution_count": 16,
   "metadata": {},
   "outputs": [],
   "source": [
    "# https://stackoverflow.com/questions/29762628/partition-of-a-set-or-all-possible-subgroups-of-a-list\n",
    "def partitions(set_):\n",
    "    if not set_:\n",
    "        yield []\n",
    "        return\n",
    "    for i in range(int(2**len(set_)/2)):\n",
    "        parts = [set(), set()]\n",
    "        for item in set_:\n",
    "            parts[i&1].add(item) # i & 1 ==> odd or even\n",
    "            i >>= 1 # divide by 2\n",
    "        for b in partitions(parts[1]):\n",
    "            yield [parts[0]]+b"
   ]
  },
  {
   "cell_type": "markdown",
   "metadata": {},
   "source": [
    "Generate some states for $N=\\{A,B,C\\}$ and $T=1$."
   ]
  },
  {
   "cell_type": "code",
   "execution_count": 17,
   "metadata": {},
   "outputs": [],
   "source": [
    "N = set([1,2,3])\n",
    "p = powerset(N) # F and S"
   ]
  },
  {
   "cell_type": "code",
   "execution_count": 18,
   "metadata": {},
   "outputs": [],
   "source": [
    "semi_states = [] # states without time\n",
    "T = 1\n",
    "for F in p:\n",
    "    S = N.difference(F)\n",
    "    for semi_CS in partitions(S):\n",
    "        for Z in product(range(2), repeat=len(semi_CS)):\n",
    "            CS = CoalitionStructure(semi_CS, Z)\n",
    "            semi_states.append((F, CS))"
   ]
  },
  {
   "cell_type": "code",
   "execution_count": 19,
   "metadata": {
    "scrolled": false
   },
   "outputs": [
    {
     "data": {
      "text/plain": [
       "[G(F=set(),CS([{1, 2, 3}],Z=(0,)),t=0),\n",
       " G(F=set(),CS([{1, 2, 3}],Z=(0,)),t=1),\n",
       " G(F=set(),CS([{1, 2, 3}],Z=(1,)),t=0),\n",
       " G(F=set(),CS([{1, 2, 3}],Z=(1,)),t=1),\n",
       " G(F=set(),CS([{2, 3}, {1}],Z=(0, 0)),t=0),\n",
       " G(F=set(),CS([{2, 3}, {1}],Z=(0, 0)),t=1),\n",
       " G(F=set(),CS([{2, 3}, {1}],Z=(0, 1)),t=0),\n",
       " G(F=set(),CS([{2, 3}, {1}],Z=(0, 1)),t=1),\n",
       " G(F=set(),CS([{2, 3}, {1}],Z=(1, 0)),t=0),\n",
       " G(F=set(),CS([{2, 3}, {1}],Z=(1, 0)),t=1),\n",
       " G(F=set(),CS([{2, 3}, {1}],Z=(1, 1)),t=0),\n",
       " G(F=set(),CS([{2, 3}, {1}],Z=(1, 1)),t=1),\n",
       " G(F=set(),CS([{1, 3}, {2}],Z=(0, 0)),t=0),\n",
       " G(F=set(),CS([{1, 3}, {2}],Z=(0, 0)),t=1),\n",
       " G(F=set(),CS([{1, 3}, {2}],Z=(0, 1)),t=0),\n",
       " G(F=set(),CS([{1, 3}, {2}],Z=(0, 1)),t=1),\n",
       " G(F=set(),CS([{1, 3}, {2}],Z=(1, 0)),t=0),\n",
       " G(F=set(),CS([{1, 3}, {2}],Z=(1, 0)),t=1),\n",
       " G(F=set(),CS([{1, 3}, {2}],Z=(1, 1)),t=0),\n",
       " G(F=set(),CS([{1, 3}, {2}],Z=(1, 1)),t=1),\n",
       " G(F=set(),CS([{3}, {1, 2}],Z=(0, 0)),t=0),\n",
       " G(F=set(),CS([{3}, {1, 2}],Z=(0, 0)),t=1),\n",
       " G(F=set(),CS([{3}, {1, 2}],Z=(0, 1)),t=0),\n",
       " G(F=set(),CS([{3}, {1, 2}],Z=(0, 1)),t=1),\n",
       " G(F=set(),CS([{3}, {1, 2}],Z=(1, 0)),t=0),\n",
       " G(F=set(),CS([{3}, {1, 2}],Z=(1, 0)),t=1),\n",
       " G(F=set(),CS([{3}, {1, 2}],Z=(1, 1)),t=0),\n",
       " G(F=set(),CS([{3}, {1, 2}],Z=(1, 1)),t=1),\n",
       " G(F=set(),CS([{3}, {2}, {1}],Z=(0, 0, 0)),t=0),\n",
       " G(F=set(),CS([{3}, {2}, {1}],Z=(0, 0, 0)),t=1),\n",
       " G(F=set(),CS([{3}, {2}, {1}],Z=(0, 0, 1)),t=0),\n",
       " G(F=set(),CS([{3}, {2}, {1}],Z=(0, 0, 1)),t=1),\n",
       " G(F=set(),CS([{3}, {2}, {1}],Z=(0, 1, 0)),t=0),\n",
       " G(F=set(),CS([{3}, {2}, {1}],Z=(0, 1, 0)),t=1),\n",
       " G(F=set(),CS([{3}, {2}, {1}],Z=(0, 1, 1)),t=0),\n",
       " G(F=set(),CS([{3}, {2}, {1}],Z=(0, 1, 1)),t=1),\n",
       " G(F=set(),CS([{3}, {2}, {1}],Z=(1, 0, 0)),t=0),\n",
       " G(F=set(),CS([{3}, {2}, {1}],Z=(1, 0, 0)),t=1),\n",
       " G(F=set(),CS([{3}, {2}, {1}],Z=(1, 0, 1)),t=0),\n",
       " G(F=set(),CS([{3}, {2}, {1}],Z=(1, 0, 1)),t=1),\n",
       " G(F=set(),CS([{3}, {2}, {1}],Z=(1, 1, 0)),t=0),\n",
       " G(F=set(),CS([{3}, {2}, {1}],Z=(1, 1, 0)),t=1),\n",
       " G(F=set(),CS([{3}, {2}, {1}],Z=(1, 1, 1)),t=0),\n",
       " G(F=set(),CS([{3}, {2}, {1}],Z=(1, 1, 1)),t=1),\n",
       " G(F={1},CS([{2, 3}],Z=(0,)),t=0),\n",
       " G(F={1},CS([{2, 3}],Z=(0,)),t=1),\n",
       " G(F={1},CS([{2, 3}],Z=(1,)),t=0),\n",
       " G(F={1},CS([{2, 3}],Z=(1,)),t=1),\n",
       " G(F={1},CS([{3}, {2}],Z=(0, 0)),t=0),\n",
       " G(F={1},CS([{3}, {2}],Z=(0, 0)),t=1),\n",
       " G(F={1},CS([{3}, {2}],Z=(0, 1)),t=0),\n",
       " G(F={1},CS([{3}, {2}],Z=(0, 1)),t=1),\n",
       " G(F={1},CS([{3}, {2}],Z=(1, 0)),t=0),\n",
       " G(F={1},CS([{3}, {2}],Z=(1, 0)),t=1),\n",
       " G(F={1},CS([{3}, {2}],Z=(1, 1)),t=0),\n",
       " G(F={1},CS([{3}, {2}],Z=(1, 1)),t=1),\n",
       " G(F={2},CS([{1, 3}],Z=(0,)),t=0),\n",
       " G(F={2},CS([{1, 3}],Z=(0,)),t=1),\n",
       " G(F={2},CS([{1, 3}],Z=(1,)),t=0),\n",
       " G(F={2},CS([{1, 3}],Z=(1,)),t=1),\n",
       " G(F={2},CS([{3}, {1}],Z=(0, 0)),t=0),\n",
       " G(F={2},CS([{3}, {1}],Z=(0, 0)),t=1),\n",
       " G(F={2},CS([{3}, {1}],Z=(0, 1)),t=0),\n",
       " G(F={2},CS([{3}, {1}],Z=(0, 1)),t=1),\n",
       " G(F={2},CS([{3}, {1}],Z=(1, 0)),t=0),\n",
       " G(F={2},CS([{3}, {1}],Z=(1, 0)),t=1),\n",
       " G(F={2},CS([{3}, {1}],Z=(1, 1)),t=0),\n",
       " G(F={2},CS([{3}, {1}],Z=(1, 1)),t=1),\n",
       " G(F={3},CS([{1, 2}],Z=(0,)),t=0),\n",
       " G(F={3},CS([{1, 2}],Z=(0,)),t=1),\n",
       " G(F={3},CS([{1, 2}],Z=(1,)),t=0),\n",
       " G(F={3},CS([{1, 2}],Z=(1,)),t=1),\n",
       " G(F={3},CS([{2}, {1}],Z=(0, 0)),t=0),\n",
       " G(F={3},CS([{2}, {1}],Z=(0, 0)),t=1),\n",
       " G(F={3},CS([{2}, {1}],Z=(0, 1)),t=0),\n",
       " G(F={3},CS([{2}, {1}],Z=(0, 1)),t=1),\n",
       " G(F={3},CS([{2}, {1}],Z=(1, 0)),t=0),\n",
       " G(F={3},CS([{2}, {1}],Z=(1, 0)),t=1),\n",
       " G(F={3},CS([{2}, {1}],Z=(1, 1)),t=0),\n",
       " G(F={3},CS([{2}, {1}],Z=(1, 1)),t=1),\n",
       " G(F={1, 2},CS([{3}],Z=(0,)),t=0),\n",
       " G(F={1, 2},CS([{3}],Z=(0,)),t=1),\n",
       " G(F={1, 2},CS([{3}],Z=(1,)),t=0),\n",
       " G(F={1, 2},CS([{3}],Z=(1,)),t=1),\n",
       " G(F={1, 3},CS([{2}],Z=(0,)),t=0),\n",
       " G(F={1, 3},CS([{2}],Z=(0,)),t=1),\n",
       " G(F={1, 3},CS([{2}],Z=(1,)),t=0),\n",
       " G(F={1, 3},CS([{2}],Z=(1,)),t=1),\n",
       " G(F={2, 3},CS([{1}],Z=(0,)),t=0),\n",
       " G(F={2, 3},CS([{1}],Z=(0,)),t=1),\n",
       " G(F={2, 3},CS([{1}],Z=(1,)),t=0),\n",
       " G(F={2, 3},CS([{1}],Z=(1,)),t=1),\n",
       " G(F={1, 2, 3},CS([],Z=()),t=0),\n",
       " G(F={1, 2, 3},CS([],Z=()),t=1)]"
      ]
     },
     "execution_count": 19,
     "metadata": {},
     "output_type": "execute_result"
    }
   ],
   "source": [
    "combs = [\n",
    "    semi_states,\n",
    "    range(T+1)\n",
    "]\n",
    "\n",
    "states = [State(*semi_state, t) for semi_state, t in product(*combs)]\n",
    "states"
   ]
  },
  {
   "cell_type": "markdown",
   "metadata": {},
   "source": [
    "## DP State expansion"
   ]
  },
  {
   "cell_type": "code",
   "execution_count": 20,
   "metadata": {},
   "outputs": [],
   "source": [
    "A = Player('A', 3)\n",
    "B = Player('B', 2)\n",
    "C = Player('C', 1)\n",
    "N = set([A, B, C])"
   ]
  },
  {
   "cell_type": "code",
   "execution_count": 21,
   "metadata": {},
   "outputs": [
    {
     "name": "stdout",
     "output_type": "stream",
     "text": [
      "G0: G(F={C, A, B},CS([],Z=[]),t=0)\n"
     ]
    }
   ],
   "source": [
    "CS0 = CoalitionStructure(CS=[], Z=[])\n",
    "G0 = State(N, CS0, t=0)\n",
    "print('G0:', G0)\n",
    "graph = nx.DiGraph()\n",
    "T = 1\n",
    "game = Game(G0, graph, T)"
   ]
  },
  {
   "cell_type": "code",
   "execution_count": 22,
   "metadata": {},
   "outputs": [],
   "source": [
    "game.build_graph()"
   ]
  },
  {
   "cell_type": "code",
   "execution_count": 23,
   "metadata": {},
   "outputs": [],
   "source": [
    "def graph_fancy_2_players():\n",
    "    plt.rcParams['figure.figsize'] = 30, 10\n",
    "    pos =graphviz_layout(game.graph, prog='dot')\n",
    "    pos_attrs = {}\n",
    "    annotated_nodes = {} # key=t, value=set\n",
    "    annotated_x = {}  # key=t, value = [x-coord of already annotated]\n",
    "    # annotated node in this layer (running)\n",
    "    eps = 1000\n",
    "    for node, coords in pos.items():\n",
    "        pos_attrs[node] = (coords[0]+15, coords[1]+5) # (x, y)\n",
    "        t = node.t\n",
    "        if t not in annotated_nodes:\n",
    "            # first in the layer!\n",
    "            annotated_nodes[t] = set([node])\n",
    "            annotated_x[t] = [coords[0]]\n",
    "        else:\n",
    "            # check if this node is far along x from the prev annotated node\n",
    "            annotated = True\n",
    "            for x in annotated_x[t]:\n",
    "                if abs(coords[0] - last_x[t]) < t * eps:\n",
    "                    annotated = False\n",
    "                    break\n",
    "            if annotated:\n",
    "                annotated_nodes[t].add(node)\n",
    "                annotated_x[t].append(coords[0])\n",
    "\n",
    "\n",
    "    nx.draw(game.graph, pos,alpha=1, arrows=True);\n",
    "\n",
    "    custom_node_attrs = {}\n",
    "    # selectively display node name at each player to avoid cluster!\n",
    "    i = 0\n",
    "    t = -1\n",
    "    for node in game.graph.nodes:\n",
    "        if node in annotated_nodes[node.t]:\n",
    "            custom_node_attrs[node] = node.name\n",
    "    nx.draw_networkx_labels(game.graph, pos_attrs, labels=custom_node_attrs, font_size=20);"
   ]
  },
  {
   "cell_type": "code",
   "execution_count": 24,
   "metadata": {
    "scrolled": false
   },
   "outputs": [],
   "source": [
    "#graph_fancy_2_players()"
   ]
  },
  {
   "cell_type": "code",
   "execution_count": 25,
   "metadata": {},
   "outputs": [
    {
     "data": {
      "image/png": "[encoded data removed]",
      "text/plain": [
       "<Figure size 2160x720 with 1 Axes>"
      ]
     },
     "metadata": {},
     "output_type": "display_data"
    }
   ],
   "source": [
    "plt.rcParams['figure.figsize'] = 30, 10\n",
    "pos =graphviz_layout(game.graph, prog='dot')\n",
    "nx.draw(game.graph, pos,alpha=0.5, node_size=50, arrowsize=5, arrows=True);"
   ]
  },
  {
   "cell_type": "code",
   "execution_count": 26,
   "metadata": {},
   "outputs": [
    {
     "data": {
      "text/plain": [
       "defaultdict(set,\n",
       "            {0: {G(F={C, A, B},CS([],Z=[]),t=0)},\n",
       "             1: {G(F=set(),CS([{C, A, B}],Z=[1]),t=1),\n",
       "              G(F={A, B},CS([{C}],Z=[0]),t=1),\n",
       "              G(F={A, B},CS([{C}],Z=[1]),t=1),\n",
       "              G(F={A},CS([{C, B}],Z=[0]),t=1),\n",
       "              G(F={A},CS([{C, B}],Z=[1]),t=1),\n",
       "              G(F={B},CS([{C, A}],Z=[0]),t=1),\n",
       "              G(F={B},CS([{C, A}],Z=[1]),t=1),\n",
       "              G(F={C, A, B},CS([],Z=[]),t=1),\n",
       "              G(F={C, A},CS([{B}],Z=[0]),t=1),\n",
       "              G(F={C, A},CS([{B}],Z=[1]),t=1),\n",
       "              G(F={C, B},CS([{A}],Z=[0]),t=1),\n",
       "              G(F={C, B},CS([{A}],Z=[1]),t=1),\n",
       "              G(F={C},CS([{A, B}],Z=[0]),t=1),\n",
       "              G(F={C},CS([{A, B}],Z=[1]),t=1)}})"
      ]
     },
     "execution_count": 26,
     "metadata": {},
     "output_type": "execute_result"
    }
   ],
   "source": [
    "game.nodes"
   ]
  },
  {
   "cell_type": "code",
   "execution_count": 27,
   "metadata": {},
   "outputs": [
    {
     "data": {
      "text/plain": [
       "'G(F={C, A, B},CS([],Z=[]),t=1)'"
      ]
     },
     "execution_count": 27,
     "metadata": {},
     "output_type": "execute_result"
    }
   ],
   "source": [
    "s = list(game.nodes[T])[0].name\n",
    "s"
   ]
  },
  {
   "cell_type": "code",
   "execution_count": 28,
   "metadata": {},
   "outputs": [
    {
     "data": {
      "text/plain": [
       "'G(F={C, A, B},CS([],Z=[]))'"
      ]
     },
     "execution_count": 28,
     "metadata": {},
     "output_type": "execute_result"
    }
   ],
   "source": [
    "s[:s.find(',t=')] +')'"
   ]
  },
  {
   "cell_type": "code",
   "execution_count": 29,
   "metadata": {},
   "outputs": [
    {
     "ename": "IndexError",
     "evalue": "list index out of range",
     "output_type": "error",
     "traceback": [
      "\u001b[0;31m---------------------------------------------------------------------------\u001b[0m",
      "\u001b[0;31mIndexError\u001b[0m                                Traceback (most recent call last)",
      "\u001b[0;32m<ipython-input-29-cba1b814ace8>\u001b[0m in \u001b[0;36m<module>\u001b[0;34m\u001b[0m\n\u001b[1;32m      3\u001b[0m \u001b[0;31m# the bottom player group with the top player.\u001b[0m\u001b[0;34m\u001b[0m\u001b[0;34m\u001b[0m\u001b[0;34m\u001b[0m\u001b[0m\n\u001b[1;32m      4\u001b[0m \u001b[0;31m# middle player drops 1 in ranking! and bottom gains 1!\u001b[0m\u001b[0;34m\u001b[0m\u001b[0;34m\u001b[0m\u001b[0;34m\u001b[0m\u001b[0m\n\u001b[0;32m----> 5\u001b[0;31m \u001b[0mprint\u001b[0m\u001b[0;34m(\u001b[0m\u001b[0mleafs\u001b[0m\u001b[0;34m[\u001b[0m\u001b[0mi\u001b[0m\u001b[0;34m]\u001b[0m\u001b[0;34m)\u001b[0m\u001b[0;34m\u001b[0m\u001b[0;34m\u001b[0m\u001b[0m\n\u001b[0m\u001b[1;32m      6\u001b[0m \u001b[0mleafs\u001b[0m\u001b[0;34m[\u001b[0m\u001b[0mi\u001b[0m\u001b[0;34m]\u001b[0m\u001b[0;34m.\u001b[0m\u001b[0mevaluate\u001b[0m\u001b[0;34m(\u001b[0m\u001b[0;34m)\u001b[0m\u001b[0;34m\u001b[0m\u001b[0;34m\u001b[0m\u001b[0m\n",
      "\u001b[0;31mIndexError\u001b[0m: list index out of range"
     ]
    }
   ],
   "source": [
    "leafs = list(game.nodes[T])\n",
    "i = 22\n",
    "# the bottom player group with the top player.\n",
    "# middle player drops 1 in ranking! and bottom gains 1!\n",
    "print(leafs[i])\n",
    "leafs[i].evaluate()"
   ]
  },
  {
   "cell_type": "code",
   "execution_count": 30,
   "metadata": {},
   "outputs": [
    {
     "data": {
      "text/plain": [
       "[PS(G(F={C, A, B},CS([],Z=[]),t=0), || CS=(C,)),\n",
       " PS(G(F={C, A, B},CS([],Z=[]),t=0), || CS=(A,)),\n",
       " PS(G(F={C, A, B},CS([],Z=[]),t=0), || CS=(B,)),\n",
       " PS(G(F={C, A, B},CS([],Z=[]),t=0), || CS=(C, A)),\n",
       " PS(G(F={C, A, B},CS([],Z=[]),t=0), || CS=(C, B)),\n",
       " PS(G(F={C, A, B},CS([],Z=[]),t=0), || CS=(A, B)),\n",
       " PS(G(F={C, A, B},CS([],Z=[]),t=0), || CS=(C, A, B))]"
      ]
     },
     "execution_count": 30,
     "metadata": {},
     "output_type": "execute_result"
    }
   ],
   "source": [
    "game.policyStates"
   ]
  },
  {
   "cell_type": "code",
   "execution_count": 31,
   "metadata": {},
   "outputs": [
    {
     "name": "stdout",
     "output_type": "stream",
     "text": [
      "res: {'C': 1, 'B': 2, 'A': 3}\n",
      "res: {'C': 1, 'B': 2, 'A': 3}\n",
      "delta res: {'C': 0, 'B': 0, 'A': 0}\n",
      "self_value: {'C': 0, 'B': 0, 'A': 0}\n",
      "game: G(F={C, A, B},CS([],Z=[]),t=1) v: {'C': 0, 'B': 0, 'A': 0}\n",
      "res: {'C': 1, 'B': 2, 'A': 3}\n",
      "res: {'C': 1, 'B': 2, 'A': 3}\n",
      "delta res: {'C': 0, 'B': 0, 'A': 0}\n",
      "self_value: {'C': 0, 'B': 0, 'A': 0}\n",
      "game: G(F={C, B},CS([{A}],Z=[0]),t=1) v: {'C': 0, 'B': 0, 'A': 0}\n",
      "res: {'C': 1, 'B': 2, 'A': 3}\n",
      "res: {'C': 1, 'B': 2, 'A': 3}\n",
      "delta res: {'C': 0, 'B': 0, 'A': 0}\n",
      "self_value: {'C': 0, 'B': 0, 'A': 0}\n",
      "game: G(F={A, B},CS([{C}],Z=[1]),t=1) v: {'C': 0, 'B': 0, 'A': 0}\n",
      "res: {'C': 1, 'B': 2, 'A': 3}\n",
      "res: {'C': 1, 'B': 2, 'A': 3}\n",
      "delta res: {'C': 0, 'B': 0, 'A': 0}\n",
      "self_value: {'C': 0, 'B': 0, 'A': 0}\n",
      "game: G(F={C},CS([{A, B}],Z=[0]),t=1) v: {'C': 0, 'B': 0, 'A': 0}\n",
      "res: {'C': 1, 'B': 2, 'A': 3}\n",
      "res: {'A': 1, 'C': 2, 'B': 3}\n",
      "delta res: {'C': 1, 'B': 1, 'A': -2}\n",
      "self_value: {'C': 1, 'B': 1, 'A': -2}\n",
      "game: G(F={A},CS([{C, B}],Z=[1]),t=1) v: {'C': 1, 'B': 1, 'A': -2}\n",
      "res: {'C': 1, 'B': 2, 'A': 3}\n",
      "res: {'C': 1, 'B': 2, 'A': 3}\n",
      "delta res: {'C': 0, 'B': 0, 'A': 0}\n",
      "self_value: {'C': 0, 'B': 0, 'A': 0}\n",
      "game: G(F={C},CS([{A, B}],Z=[1]),t=1) v: {'C': 0, 'B': 0, 'A': 0}\n",
      "res: {'C': 1, 'B': 2, 'A': 3}\n",
      "res: {'C': 1, 'B': 2, 'A': 3}\n",
      "delta res: {'C': 0, 'B': 0, 'A': 0}\n",
      "self_value: {'C': 0, 'B': 0, 'A': 0}\n",
      "game: G(F=set(),CS([{C, A, B}],Z=[1]),t=1) v: {'C': 0, 'B': 0, 'A': 0}\n",
      "res: {'C': 1, 'B': 2, 'A': 3}\n",
      "res: {'C': 1, 'B': 2, 'A': 3}\n",
      "delta res: {'C': 0, 'B': 0, 'A': 0}\n",
      "self_value: {'C': 0, 'B': 0, 'A': 0}\n",
      "game: G(F={A},CS([{C, B}],Z=[0]),t=1) v: {'C': 0, 'B': 0, 'A': 0}\n",
      "res: {'C': 1, 'B': 2, 'A': 3}\n",
      "res: {'C': 1, 'B': 2, 'A': 3}\n",
      "delta res: {'C': 0, 'B': 0, 'A': 0}\n",
      "self_value: {'C': 0, 'B': 0, 'A': 0}\n",
      "game: G(F={C, A},CS([{B}],Z=[0]),t=1) v: {'C': 0, 'B': 0, 'A': 0}\n",
      "res: {'C': 1, 'B': 2, 'A': 3}\n",
      "res: {'C': 1, 'B': 2, 'A': 3}\n",
      "delta res: {'C': 0, 'B': 0, 'A': 0}\n",
      "self_value: {'C': 0, 'B': 0, 'A': 0}\n",
      "game: G(F={C, B},CS([{A}],Z=[1]),t=1) v: {'C': 0, 'B': 0, 'A': 0}\n",
      "res: {'C': 1, 'B': 2, 'A': 3}\n",
      "res: {'C': 1, 'B': 2, 'A': 3}\n",
      "delta res: {'C': 0, 'B': 0, 'A': 0}\n",
      "self_value: {'C': 0, 'B': 0, 'A': 0}\n",
      "game: G(F={C, A},CS([{B}],Z=[1]),t=1) v: {'C': 0, 'B': 0, 'A': 0}\n",
      "res: {'C': 1, 'B': 2, 'A': 3}\n",
      "res: {'C': 1, 'B': 2, 'A': 3}\n",
      "delta res: {'C': 0, 'B': 0, 'A': 0}\n",
      "self_value: {'C': 0, 'B': 0, 'A': 0}\n",
      "game: G(F={B},CS([{C, A}],Z=[0]),t=1) v: {'C': 0, 'B': 0, 'A': 0}\n",
      "res: {'C': 1, 'B': 2, 'A': 3}\n",
      "res: {'C': 1, 'B': 2, 'A': 3}\n",
      "delta res: {'C': 0, 'B': 0, 'A': 0}\n",
      "self_value: {'C': 0, 'B': 0, 'A': 0}\n",
      "game: G(F={A, B},CS([{C}],Z=[0]),t=1) v: {'C': 0, 'B': 0, 'A': 0}\n",
      "res: {'C': 1, 'B': 2, 'A': 3}\n",
      "res: {'B': 1, 'C': 2, 'A': 3}\n",
      "delta res: {'C': 1, 'B': -1, 'A': 0}\n",
      "self_value: {'C': 1, 'B': -1, 'A': 0}\n",
      "game: G(F={B},CS([{C, A}],Z=[1]),t=1) v: {'C': 1, 'B': -1, 'A': 0}\n"
     ]
    }
   ],
   "source": [
    "for state in game.nodes[T]:\n",
    "    game.valuations[state] = state.evaluate()\n",
    "    print('game:', state, 'v:', game.valuations[state])"
   ]
  },
  {
   "cell_type": "code",
   "execution_count": null,
   "metadata": {},
   "outputs": [],
   "source": [
    "i=-7\n",
    "leafs = list(game.nodes[T])\n",
    "print(leafs[i])\n",
    "print(leafs[i].value)"
   ]
  },
  {
   "cell_type": "markdown",
   "metadata": {},
   "source": [
    "# Agent Policy Optimization"
   ]
  },
  {
   "cell_type": "markdown",
   "metadata": {},
   "source": [
    "Initialize each agents with random policies!"
   ]
  },
  {
   "cell_type": "code",
   "execution_count": null,
   "metadata": {},
   "outputs": [],
   "source": [
    "#num_policy_states = len(game.policyStates)\n",
    "#for agent in N:\n",
    "#    agent.init_policy(np.zeros(shape=(num_policy_states,2)))"
   ]
  },
  {
   "cell_type": "markdown",
   "metadata": {},
   "source": [
    "We can do backward minimax to get the optimal policy exactly! Starting from the bottom layer, we construct a simultaneous Nash game and compute the mixed Nash equilibrium."
   ]
  },
  {
   "cell_type": "markdown",
   "metadata": {},
   "source": [
    "# Exact backward nash (MiniMax)"
   ]
  },
  {
   "cell_type": "markdown",
   "metadata": {},
   "source": [
    "https://gambitproject.readthedocs.io/en/latest/\n",
    "\n",
    "Gambit Library for Python2 can be used to compute Nash equilibrium."
   ]
  },
  {
   "cell_type": "markdown",
   "metadata": {},
   "source": [
    "The payoff at game states at termination (leaf) $G_T$ is well-defined. We can use that to compute the payoff at Nash games (policy_state in code) $P_{T-1}$. Then, given $P_{T-1}$, we compute the payoff $G_{T-1}$ by taking expectation. Repeat this process of \"backward induction\" from bottom to top!"
   ]
  },
  {
   "cell_type": "code",
   "execution_count": 55,
   "metadata": {},
   "outputs": [
    {
     "data": {
      "text/plain": [
       "1"
      ]
     },
     "execution_count": 55,
     "metadata": {},
     "output_type": "execute_result"
    }
   ],
   "source": [
    "ps.coalition_considered.index(B)"
   ]
  },
  {
   "cell_type": "code",
   "execution_count": 51,
   "metadata": {},
   "outputs": [
    {
     "name": "stdout",
     "output_type": "stream",
     "text": [
      "ps: PS(G(F={C, A, B},CS([],Z=[]),t=0), || CS=(C, B))\n",
      "Constructing Game for PS(G(F={C, A, B},CS([],Z=[]),t=0), || CS=(C, B))\n",
      "valuation: {'C': 0, 'B': 0, 'A': 0} for outcome [0 0]\n",
      "agent: C\n",
      "agent: B\n",
      "valuation: {'C': 0, 'B': 0, 'A': 0} for outcome [0 1]\n",
      "agent: C\n",
      "agent: B\n",
      "valuation: {'C': 0, 'B': 0, 'A': 0} for outcome [1 0]\n",
      "agent: C\n",
      "agent: B\n",
      "valuation: {'C': 1, 'B': 1, 'A': -2} for outcome [1 1]\n",
      "agent: C\n",
      "agent: B\n"
     ]
    },
    {
     "data": {
      "text/plain": [
       "array([[[0., 0.],\n",
       "        [0., 1.]],\n",
       "\n",
       "       [[0., 0.],\n",
       "        [0., 1.]]])"
      ]
     },
     "execution_count": 51,
     "metadata": {},
     "output_type": "execute_result"
    }
   ],
   "source": [
    "ps = game.policyStates[4]\n",
    "print('ps:', ps)\n",
    "constructNashGame(ps)"
   ]
  },
  {
   "cell_type": "code",
   "execution_count": 50,
   "metadata": {},
   "outputs": [],
   "source": [
    "def constructNashGame(policy_state):\n",
    "    '''\n",
    "    Let k be the number of agents in the coalitions!\n",
    "    We have |A|^k=2^k possible outcomes. Each outcome leads\n",
    "    to another game state.\n",
    "    \n",
    "    For the Gambit lib, we need to provide k matrices of payoff, each for\n",
    "    each player. Each matrix is shape (2,2,...,2) where M[i_1, i_2, ..., i_k]\n",
    "    is where each player plays the strategy i\n",
    "    \n",
    "    Input: policy_state\n",
    "    Output: payout\n",
    "    Payout ordering of agent is in the same ordering as policy_state.coalition_considered.\n",
    "    \n",
    "    This function only works if the resulting game states have their valuations dict \n",
    "    written before.\n",
    "    '''\n",
    "    print('Constructing Game for', policy_state)\n",
    "    c = np.array(policy_state.coalition_considered)\n",
    "    k = len(c)\n",
    "    payout = np.zeros(shape=[k] + [2]*k) # shape=(k,2,...,2)\n",
    "    # 1 == stay, 0 == leave\n",
    "    possible_outcomes = product(range(2),repeat=k)\n",
    "    \n",
    "    s = policy_state.parentState\n",
    "    \n",
    "    for outcome in possible_outcomes:\n",
    "        outcome = np.array(outcome)\n",
    "        #print('outcome:', outcome)\n",
    "        z = int((outcome == 1).all())\n",
    "        betrayers = set(c[np.where(outcome == 0)]) # 0 means player leaves!\n",
    "        resulting_C = set(c).difference(betrayers)\n",
    "        F_new = s.F.difference(resulting_C)\n",
    "        if resulting_C:\n",
    "            CS_new =  CoalitionStructure(s.CS.CS + [resulting_C], s.CS.Z + [z])\n",
    "        else:\n",
    "            CS_new =  CoalitionStructure(s.CS.CS, s.CS.Z) # no plus \n",
    "        new_state = State(F_new, CS_new, s.t+1)\n",
    "        valuations = game.valuations[new_state]\n",
    "        #print('new_state:', new_state)\n",
    "        print('valuation:', valuations, 'for outcome', outcome)\n",
    "        for i, agent in enumerate(c):\n",
    "            print('agent:', agent)\n",
    "            payout[tuple([i] + list(outcome))] = valuations[agent.name]\n",
    "    return payout\n",
    "\n"
   ]
  },
  {
   "cell_type": "code",
   "execution_count": null,
   "metadata": {
    "scrolled": false
   },
   "outputs": [],
   "source": [
    "optimal_profile = {}\n",
    "for policy_state in game.policyStates[::-1]: # bottom to top\n",
    "    if policy_state.parentState.t == T-1:\n",
    "        nash_game = constructNashGame(policy_state)\n",
    "        #optimal_profile[policy_state] = find_nash_equil(nash_game)"
   ]
  },
  {
   "cell_type": "code",
   "execution_count": null,
   "metadata": {},
   "outputs": [],
   "source": [
    "def find_nash_equil(nash_game):\n",
    "    '''\n",
    "    This has to use the Gambit library!\n",
    "    Which is only available through Python2 ...\n",
    "    '''\n",
    "    pass"
   ]
  },
  {
   "cell_type": "code",
   "execution_count": 48,
   "metadata": {},
   "outputs": [
    {
     "name": "stdout",
     "output_type": "stream",
     "text": [
      "PS(G(F={C, A, B},CS([],Z=[]),t=0), || CS=(C, B))\n"
     ]
    },
    {
     "data": {
      "text/plain": [
       "(C, B)"
      ]
     },
     "execution_count": 48,
     "metadata": {},
     "output_type": "execute_result"
    }
   ],
   "source": [
    "ps = game.policyStates[4]\n",
    "print(ps)\n",
    "ps.coalition_considered"
   ]
  },
  {
   "cell_type": "markdown",
   "metadata": {},
   "source": [
    "## Gambit Library\n",
    "\n",
    "https://github.com/gambitproject/gambit/issues/203\n",
    "\n",
    "https://github.com/gambitproject/gambit/commit/b0f989d32dfb081ab3b91339230bb7b72e0d51f6\n",
    "\n",
    "Apparently Python 3 is now supported!"
   ]
  },
  {
   "cell_type": "markdown",
   "metadata": {},
   "source": [
    "Issue: https://github.com/gambitproject/gambit/issues/246"
   ]
  },
  {
   "cell_type": "code",
   "execution_count": null,
   "metadata": {},
   "outputs": [],
   "source": [
    "g = gambit.Game.new_table([2,2,2])"
   ]
  },
  {
   "cell_type": "code",
   "execution_count": null,
   "metadata": {},
   "outputs": [],
   "source": [
    "m = np.array([[[1, 2], [3, 4]], [[5, 6], [7, 8]]], dtype=gambit.Rational)\n",
    "m.shape\n",
    "m[1,:,:]\n",
    "#m = np.array([ [ 8, 2 ], [ 10, 5 ] ], dtype=gambit.Rational)\n",
    "A = [m, m, m]"
   ]
  },
  {
   "cell_type": "code",
   "execution_count": null,
   "metadata": {},
   "outputs": [],
   "source": [
    "g = gambit.Game.from_arrays(*A)"
   ]
  },
  {
   "cell_type": "code",
   "execution_count": null,
   "metadata": {},
   "outputs": [],
   "source": [
    "g"
   ]
  },
  {
   "cell_type": "code",
   "execution_count": null,
   "metadata": {},
   "outputs": [],
   "source": [
    "solver = gambit.nash.enumpure_solve(g)\n",
    "solver"
   ]
  },
  {
   "cell_type": "code",
   "execution_count": null,
   "metadata": {},
   "outputs": [],
   "source": [
    "solver.solve(g)"
   ]
  },
  {
   "cell_type": "code",
   "execution_count": null,
   "metadata": {},
   "outputs": [],
   "source": [
    "# prisoner dilemma\n",
    "g = gambit.Game.new_table([2,2])\n",
    "m = np.array([ [ 8, 2 ], [ 10, 5 ] ], dtype=gambit.Rational)\n",
    "g = gambit.Game.from_arrays(m, np.transpose(m))\n",
    "res = gambit.nash.enumpure_solve(g)\n",
    "res"
   ]
  },
  {
   "cell_type": "code",
   "execution_count": null,
   "metadata": {},
   "outputs": [],
   "source": [
    "type(res[0])"
   ]
  },
  {
   "cell_type": "code",
   "execution_count": null,
   "metadata": {},
   "outputs": [],
   "source": [
    "for x in res[0]:\n",
    "    print(x)"
   ]
  },
  {
   "cell_type": "code",
   "execution_count": null,
   "metadata": {},
   "outputs": [],
   "source": [
    "# rock paper scissor\n",
    "# no pure strategy!\n",
    "g = gambit.Game.new_table([3,3])\n",
    "m = np.array([ [ 0, -1, 1], [1,0,-1],[-1,1,0] ], dtype=gambit.Rational)\n",
    "n = np.array([ [ 0, 1, -1], [-1,0,1],[1,-1,0] ], dtype=gambit.Rational)\n",
    "g = gambit.Game.from_arrays(m,n)\n",
    "res = gambit.nash.enumpure_solve(g)\n",
    "res"
   ]
  },
  {
   "cell_type": "code",
   "execution_count": null,
   "metadata": {},
   "outputs": [],
   "source": [
    "solver = gambit.nash.ExternalEnumPolySolver()\n",
    "solver.solve(g)"
   ]
  },
  {
   "cell_type": "markdown",
   "metadata": {},
   "source": [
    "## Reading\n",
    "https://jeremykun.com/2013/11/08/adversarial-bandits-and-the-exp3-algorithm/"
   ]
  },
  {
   "cell_type": "code",
   "execution_count": null,
   "metadata": {},
   "outputs": [],
   "source": []
  }
 ],
 "metadata": {
  "hide_input": false,
  "kernelspec": {
   "display_name": "Python 3",
   "language": "python",
   "name": "python3"
  },
  "language_info": {
   "codemirror_mode": {
    "name": "ipython",
    "version": 3
   },
   "file_extension": ".py",
   "mimetype": "text/x-python",
   "name": "python",
   "nbconvert_exporter": "python",
   "pygments_lexer": "ipython3",
   "version": "3.8.6"
  },
  "latex_envs": {
   "LaTeX_envs_menu_present": false,
   "autoclose": false,
   "autocomplete": false,
   "bibliofile": "biblio.bib",
   "cite_by": "apalike",
   "current_citInitial": 1,
   "eqLabelWithNumbers": false,
   "eqNumInitial": 1,
   "hotkeys": {
    "equation": "Ctrl-E",
    "itemize": "Ctrl-I"
   },
   "labels_anchors": false,
   "latex_user_defs": false,
   "report_style_numbering": false,
   "user_envs_cfg": false
  },
  "toc": {
   "base_numbering": 1,
   "nav_menu": {},
   "number_sections": true,
   "sideBar": true,
   "skip_h1_title": false,
   "title_cell": "Table of Contents",
   "title_sidebar": "Contents",
   "toc_cell": false,
   "toc_position": {},
   "toc_section_display": true,
   "toc_window_display": false
  }
 },
 "nbformat": 4,
 "nbformat_minor": 2
}
