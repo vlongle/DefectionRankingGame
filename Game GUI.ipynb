{
 "cells": [
  {
   "cell_type": "code",
   "execution_count": 2,
   "metadata": {},
   "outputs": [],
   "source": [
    "import arcade\n",
    "\n",
    "SCREEN_WIDTH = 800\n",
    "SCREEN_HEIGHT = 600\n",
    "\n",
    "\n",
    "class MyGame(arcade.Window):\n",
    "    \"\"\" Main application class. \"\"\"\n",
    "\n",
    "    def __init__(self, width, height):\n",
    "        super().__init__(width, height)\n",
    "\n",
    "        arcade.set_background_color(arcade.color.AMAZON)\n",
    "\n",
    "    def setup(self):\n",
    "        # Set up your game here\n",
    "        pass\n",
    "\n",
    "    def on_draw(self):\n",
    "        \"\"\" Render the screen. \"\"\"\n",
    "        arcade.start_render()\n",
    "        # Your drawing code goes here\n",
    "\n",
    "    def update(self, delta_time):\n",
    "        \"\"\" All the logic to move, and the game logic goes here. \"\"\"\n",
    "        pass\n",
    "\n",
    "\n",
    "def main():\n",
    "    game = MyGame(SCREEN_WIDTH, SCREEN_HEIGHT)\n",
    "    game.setup()\n",
    "    arcade.run()\n",
    "\n",
    "\n",
    "if __name__ == \"__main__\":\n",
    "    main()"
   ]
  }
 ],
 "metadata": {
  "hide_input": false,
  "kernelspec": {
   "display_name": "Python 3",
   "language": "python",
   "name": "python3"
  },
  "language_info": {
   "codemirror_mode": {
    "name": "ipython",
    "version": 3
   },
   "file_extension": ".py",
   "mimetype": "text/x-python",
   "name": "python",
   "nbconvert_exporter": "python",
   "pygments_lexer": "ipython3",
   "version": "3.8.6"
  },
  "latex_envs": {
   "LaTeX_envs_menu_present": false,
   "autoclose": false,
   "autocomplete": false,
   "bibliofile": "biblio.bib",
   "cite_by": "apalike",
   "current_citInitial": 1,
   "eqLabelWithNumbers": false,
   "eqNumInitial": 1,
   "hotkeys": {
    "equation": "Ctrl-E",
    "itemize": "Ctrl-I"
   },
   "labels_anchors": false,
   "latex_user_defs": false,
   "report_style_numbering": false,
   "user_envs_cfg": false
  },
  "toc": {
   "base_numbering": 1,
   "nav_menu": {},
   "number_sections": true,
   "sideBar": true,
   "skip_h1_title": false,
   "title_cell": "Table of Contents",
   "title_sidebar": "Contents",
   "toc_cell": false,
   "toc_position": {},
   "toc_section_display": true,
   "toc_window_display": false
  }
 },
 "nbformat": 4,
 "nbformat_minor": 4
}
